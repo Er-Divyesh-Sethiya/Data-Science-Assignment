{
 "cells": [
  {
   "cell_type": "code",
   "execution_count": null,
   "id": "838840d5",
   "metadata": {},
   "outputs": [],
   "source": [
    "import pandas as pd\n",
    "import numpy as np\n",
    "import matplotlib.pyplot as plt\n",
    "import seaborn as sns\n",
    "from sklearn.model_selection import train_test_split, KFold, cross_val_score\n",
    "from sklearn.preprocessing import StandardScaler\n",
    "from sklearn.metrics import confusion_matrix, plot_confusion_matrix, classification_report\n",
    "from sklearn.ensemble import RandomForestClassifier\n"
   ]
  },
  {
   "cell_type": "code",
   "execution_count": null,
   "id": "d1e20a37",
   "metadata": {},
   "outputs": [],
   "source": [
    "!pip install imblearn"
   ]
  },
  {
   "cell_type": "code",
   "execution_count": null,
   "id": "9c83d150",
   "metadata": {
    "scrolled": true
   },
   "outputs": [],
   "source": [
    "from imblearn.combine import SMOTETomek"
   ]
  },
  {
   "cell_type": "code",
   "execution_count": null,
   "id": "63cece53",
   "metadata": {},
   "outputs": [],
   "source": [
    "data_raw = pd.read_csv('Fraud_check.csv')\n",
    "data_raw"
   ]
  },
  {
   "cell_type": "code",
   "execution_count": null,
   "id": "698c89e5",
   "metadata": {},
   "outputs": [],
   "source": [
    "data = data_raw.copy()\n",
    "x = 0\n",
    "for i in data_raw['Taxable.Income']:\n",
    "    if i <= 30000:\n",
    "        data['Taxable.Income'][x] = 'Risky'\n",
    "    else:\n",
    "        data['Taxable.Income'][x] = 'Good'\n",
    "    x += 1\n",
    "data"
   ]
  },
  {
   "cell_type": "code",
   "execution_count": null,
   "id": "7f387860",
   "metadata": {},
   "outputs": [],
   "source": [
    "sns.countplot(data['Taxable.Income'])"
   ]
  },
  {
   "cell_type": "code",
   "execution_count": null,
   "id": "20a1c045",
   "metadata": {},
   "outputs": [],
   "source": [
    "y = data['Taxable.Income']\n",
    "X = data.drop('Taxable.Income', axis = 1)\n",
    "X['Undergrad'] = X['Undergrad'].map({'NO' : 0, 'YES' : 1})\n",
    "X['Marital.Status'] = X['Marital.Status'].map({'Single' : 0, 'Married' : 1, 'Divorced' : 2})\n",
    "X['Urban'] = X['Urban'].map({'NO' : 0, 'YES' : 1})\n",
    "X"
   ]
  },
  {
   "cell_type": "markdown",
   "id": "6bf5d35f",
   "metadata": {},
   "source": [
    "# Resampling the data"
   ]
  },
  {
   "cell_type": "code",
   "execution_count": null,
   "id": "3ead2ea9",
   "metadata": {},
   "outputs": [],
   "source": [
    "scaler = StandardScaler()\n",
    "scaler.fit(X)\n",
    "X_scaled = scaler.transform(X)"
   ]
  },
  {
   "cell_type": "code",
   "execution_count": null,
   "id": "97c9be5a",
   "metadata": {},
   "outputs": [],
   "source": [
    "kfold = KFold(10)\n",
    "accuracy = []\n",
    "for i in range(1,201):\n",
    "    forest = RandomForestClassifier(n_estimators = i)\n",
    "    results = cross_val_score(forest, X, y, cv = kfold)\n",
    "    accuracy.append(np.mean(results))\n",
    "accuracy"
   ]
  },
  {
   "cell_type": "code",
   "execution_count": null,
   "id": "4c5a699b",
   "metadata": {},
   "outputs": [],
   "source": [
    "n_est_ideal = accuracy.index(max(accuracy[2:]))\n",
    "n_est_ideal"
   ]
  },
  {
   "cell_type": "code",
   "execution_count": null,
   "id": "ecece30e",
   "metadata": {},
   "outputs": [],
   "source": [
    "plt.figure(figsize = (15,15))\n",
    "plt.plot(range(1,201), accuracy, drawstyle = 'steps-post')\n",
    "plt.xlabel('Number of Trees', fontsize = 20)\n",
    "plt.ylabel('Mean Accuracy', fontsize = 20)\n",
    "plt.title('Mean Accuracy vs No. of trees', fontsize = 20)\n",
    "plt.grid()"
   ]
  },
  {
   "cell_type": "code",
   "execution_count": null,
   "id": "5412a3dc",
   "metadata": {},
   "outputs": [],
   "source": [
    "resample = SMOTETomek(random_state = 42)\n",
    "X_res, y_res = resample.fit_resample(X, y)\n",
    "(X_res.shape, y_res.shape)"
   ]
  },
  {
   "cell_type": "code",
   "execution_count": null,
   "id": "5e752bcd",
   "metadata": {},
   "outputs": [],
   "source": [
    "X_train, X_test, y_train, y_test = train_test_split(X_res, y_res, random_state = 42, test_size = 0.2)"
   ]
  },
  {
   "cell_type": "code",
   "execution_count": null,
   "id": "7d4372c7",
   "metadata": {},
   "outputs": [],
   "source": [
    "forest = RandomForestClassifier(random_state = 42, n_estimators = n_est_ideal)\n",
    "forest.fit(X_train, y_train)"
   ]
  },
  {
   "cell_type": "code",
   "execution_count": null,
   "id": "e1dfab50",
   "metadata": {},
   "outputs": [],
   "source": [
    "predictions = forest.predict(X_test)\n",
    "np.mean(predictions == y_test)"
   ]
  },
  {
   "cell_type": "code",
   "execution_count": null,
   "id": "2bd8ce0a",
   "metadata": {},
   "outputs": [],
   "source": [
    "print(classification_report(y_test, predictions))"
   ]
  },
  {
   "cell_type": "code",
   "execution_count": null,
   "id": "0b165cd9",
   "metadata": {},
   "outputs": [],
   "source": [
    "cf_mat = confusion_matrix(y_test, predictions)\n",
    "cf_mat"
   ]
  },
  {
   "cell_type": "code",
   "execution_count": null,
   "id": "9a16ed12",
   "metadata": {},
   "outputs": [],
   "source": [
    "fig, ax = plt.subplots(figsize = (15,15))\n",
    "plot_confusion_matrix(forest, X_test, y_test, ax = ax)\n",
    "ax.set_xlabel('Predicted Label', fontsize = 20)\n",
    "ax.set_ylabel('True Label', fontsize = 20)\n",
    "plt.show()"
   ]
  },
  {
   "cell_type": "code",
   "execution_count": null,
   "id": "95b51279",
   "metadata": {},
   "outputs": [],
   "source": []
  },
  {
   "cell_type": "code",
   "execution_count": null,
   "id": "2aedbcff",
   "metadata": {},
   "outputs": [],
   "source": []
  }
 ],
 "metadata": {
  "kernelspec": {
   "display_name": "Python 3 (ipykernel)",
   "language": "python",
   "name": "python3"
  },
  "language_info": {
   "codemirror_mode": {
    "name": "ipython",
    "version": 3
   },
   "file_extension": ".py",
   "mimetype": "text/x-python",
   "name": "python",
   "nbconvert_exporter": "python",
   "pygments_lexer": "ipython3",
   "version": "3.9.7"
  }
 },
 "nbformat": 4,
 "nbformat_minor": 5
}
